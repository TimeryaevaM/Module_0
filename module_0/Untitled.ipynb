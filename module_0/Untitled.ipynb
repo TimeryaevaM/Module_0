{
 "cells": [
  {
   "cell_type": "code",
   "execution_count": 95,
   "metadata": {},
   "outputs": [
    {
     "name": "stdout",
     "output_type": "stream",
     "text": [
      "Ваш алгоритм угадывает число в среднем за 6 попыток\n"
     ]
    },
    {
     "data": {
      "text/plain": [
       "6"
      ]
     },
     "execution_count": 95,
     "metadata": {},
     "output_type": "execute_result"
    }
   ],
   "source": [
    "import numpy as np\n",
    "import random\n",
    "def predict_number_game(number):\n",
    "    '''Вначале устанавливаем число для отгадывания на random,\n",
    "    далее устанавливаем границы интервала для поиска числа\n",
    "    Отгадываем по принципу известного метода деления отрезка пополам и смещения границ поиска'''\n",
    "    \n",
    "    predict = np.random.randint(1,101)\n",
    "    left_limit = 0\n",
    "    right_limit = 100\n",
    "    count = 0\n",
    "   \n",
    "    while True:\n",
    "        count+=1\n",
    "        if predict == number:\n",
    "            break # выход из цикла, если угадали\n",
    "        elif predict < number:\n",
    "            left_limit = predict\n",
    "            predict = round((predict + right_limit)/2)\n",
    "        else:\n",
    "            right_limit = predict\n",
    "            predict = round((predict + left_limit)/2)\n",
    "    return count\n",
    "\n",
    "\n",
    "def score_game(game_core):\n",
    "    '''Запускаем игру 1000 раз, чтобы узнать, как быстро игра угадывает число'''\n",
    "    count_ls = []\n",
    "    random.seed(1)  # фиксируем RANDOM SEED, чтобы ваш эксперимент был воспроизводим!\n",
    "    random_array = np.random.randint(1,101, size=1000)\n",
    "    for number in random_array:\n",
    "        count_ls.append(game_core(number))\n",
    "    score = int(np.mean(count_ls))\n",
    "    print(f\"Ваш алгоритм угадывает число в среднем за {score} попыток\")\n",
    "    return(score)\n",
    "\n",
    "score_game(predict_number_game)"
   ]
  }
 ],
 "metadata": {
  "kernelspec": {
   "display_name": "Python 3",
   "language": "python",
   "name": "python3"
  },
  "language_info": {
   "codemirror_mode": {
    "name": "ipython",
    "version": 3
   },
   "file_extension": ".py",
   "mimetype": "text/x-python",
   "name": "python",
   "nbconvert_exporter": "python",
   "pygments_lexer": "ipython3",
   "version": "3.7.4"
  }
 },
 "nbformat": 4,
 "nbformat_minor": 2
}
